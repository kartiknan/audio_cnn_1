{
 "cells": [
  {
   "cell_type": "markdown",
   "metadata": {},
   "source": [
    "# Train a CNN based model on audio spectrogram data\n",
    "Kartik Nanda, March 2020"
   ]
  },
  {
   "cell_type": "code",
   "execution_count": 1,
   "metadata": {},
   "outputs": [],
   "source": [
    "%reload_ext autoreload\n",
    "%autoreload 2\n",
    "%matplotlib inline\n",
    "\n",
    "from fastai.vision import *\n",
    "from fastai.metrics import error_rate\n",
    "import numpy as np\n",
    "import os\n",
    "\n",
    "from audio import *"
   ]
  },
  {
   "cell_type": "markdown",
   "metadata": {},
   "source": [
    "## Define Constants"
   ]
  },
  {
   "cell_type": "code",
   "execution_count": 2,
   "metadata": {},
   "outputs": [],
   "source": [
    "# Define some important constants - this needs to be moved to a separate included file\n",
    "n_fft = 2048            # used for STFT: # samples used to generate fft\n",
    "sample_rate = [44100, 8192, 1024]  # sample rates of the audio clips\n",
    "cdur = 4                # clip duration in seconds\n",
    "n_mels = 128            # num of mel freq bands output\n",
    "ref = 32768             # reference power for mel db calculation"
   ]
  },
  {
   "cell_type": "markdown",
   "metadata": {},
   "source": [
    "## Path Setup"
   ]
  },
  {
   "cell_type": "code",
   "execution_count": 9,
   "metadata": {},
   "outputs": [],
   "source": [
    "# Define paths\n",
    "# path_raw_audio contains the audio clips and associated meta data\n",
    "# path_dataset - the audio clips are converted to images (mel spectrogram) and saved here\n",
    "# path_features - the output of the CNN, for further processing\n",
    "path_proj = Path.cwd().parent                                      # The project directory\n",
    "path_raw_audio = path_proj/'datasets'/'data_uw_sounds'             # The downloaded dataset incl. audio files\n",
    "path_dataset = path_proj/'datasets'/'dataset_uw_sounds'            # Dataset for CNN train and valid \n",
    "path_features = path_proj/'audio_features'/'uw_sounds'             # The output folder - where the features are saved\n",
    "\n",
    "path_model = path_proj/'models'                                    # models are saved here"
   ]
  },
  {
   "cell_type": "code",
   "execution_count": 4,
   "metadata": {},
   "outputs": [
    {
     "data": {
      "text/plain": [
       "WindowsPath('C:/Users/kar16/Desktop/KartikNanda_LLC/KBSI/Development/audio_anomaly_model')"
      ]
     },
     "execution_count": 4,
     "metadata": {},
     "output_type": "execute_result"
    }
   ],
   "source": [
    "path_proj"
   ]
  },
  {
   "cell_type": "code",
   "execution_count": 7,
   "metadata": {},
   "outputs": [
    {
     "data": {
      "text/plain": [
       "12"
      ]
     },
     "execution_count": 7,
     "metadata": {},
     "output_type": "execute_result"
    }
   ],
   "source": [
    "# This is a list of all the mel spectrograms images\n",
    "audio_files = list(path_dataset.glob('*'))\n",
    "len(audio_files)"
   ]
  },
  {
   "cell_type": "code",
   "execution_count": 10,
   "metadata": {},
   "outputs": [
    {
     "data": {
      "text/plain": [
       "WindowsPath('C:/Users/kar16/Desktop/KartikNanda_LLC/KBSI/Development/audio_anomaly_model/models')"
      ]
     },
     "execution_count": 10,
     "metadata": {},
     "output_type": "execute_result"
    }
   ],
   "source": [
    "path_model"
   ]
  },
  {
   "cell_type": "code",
   "execution_count": null,
   "metadata": {},
   "outputs": [],
   "source": []
  }
 ],
 "metadata": {
  "kernelspec": {
   "display_name": "Python 3",
   "language": "python",
   "name": "python3"
  },
  "language_info": {
   "codemirror_mode": {
    "name": "ipython",
    "version": 3
   },
   "file_extension": ".py",
   "mimetype": "text/x-python",
   "name": "python",
   "nbconvert_exporter": "python",
   "pygments_lexer": "ipython3",
   "version": "3.7.4"
  }
 },
 "nbformat": 4,
 "nbformat_minor": 4
}
